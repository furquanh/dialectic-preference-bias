{
 "cells": [
  {
   "cell_type": "code",
   "execution_count": 8,
   "id": "cca9e140-f5e1-46c5-ac0e-0b97fb5ebdb6",
   "metadata": {},
   "outputs": [],
   "source": [
    "import pandas as pd\n",
    "import random\n",
    "from typing import Optional\n",
    "import logging\n",
    "from dotenv import load_dotenv\n",
    "import os\n",
    "load_dotenv()\n",
    "\n",
    "# Configure logging\n",
    "logging.basicConfig(level=logging.INFO, \n",
    "                    format='%(asctime)s - %(name)s - %(levelname)s - %(message)s',\n",
    "                    handlers=[\n",
    "                        logging.FileHandler(\"aae_to_sae_translation.log\"),\n",
    "                        logging.StreamHandler()\n",
    "                    ])\n",
    "logger = logging.getLogger(__name__)"
   ]
  },
  {
   "cell_type": "code",
   "execution_count": 18,
   "id": "695b2f4e-8b15-44d3-a7aa-60325edf6f88",
   "metadata": {},
   "outputs": [],
   "source": [
    "def load_sae_dataset(filepath: str, num_samples: Optional[int] = None) -> pd.DataFrame:\n",
    "    \"\"\"\n",
    "    Load the SAE dataset from a CSV file.\n",
    "    Opens the file as text, extracts headers from first line, then treats each line as a whole.\n",
    "    \n",
    "    Args:\n",
    "        filepath: Path to the CSV file\n",
    "        num_samples: Number of samples to load, if None, load all\n",
    "        \n",
    "    Returns:\n",
    "        DataFrame containing the dataset\n",
    "    \"\"\"\n",
    "    try:\n",
    "        # Check if the file exists\n",
    "        if not os.path.exists(filepath):\n",
    "            raise FileNotFoundError(f\"File not found: {filepath}\")\n",
    "            \n",
    "        # Read the CSV with proper parsing using pandas\n",
    "        full_df = pd.read_csv(filepath)\n",
    "        \n",
    "        # Validate the required column exists\n",
    "        if 'sae_text' not in full_df.columns:\n",
    "            raise ValueError(\"Required column 'sae_text' not found in CSV file\")\n",
    "            \n",
    "        # Extract only the sae_text column\n",
    "        lines = full_df['sae_text'].tolist()\n",
    "        \n",
    "        # # Sample if requested\n",
    "        # if num_samples and num_samples < len(lines):\n",
    "        #     import random\n",
    "        #     random.seed(42)\n",
    "        #     lines = random.sample(lines, num_samples)\n",
    "            \n",
    "        logger.info(f\"Loaded {len(lines)} SAE texts from column 'sae_text'\")\n",
    "        \n",
    "        # Create DataFrame with text column (using first header as column name)\n",
    "        column_name = 'sae_text'  # Use standard name for compatibility with rest of code\n",
    "        \n",
    "        df = pd.DataFrame({\n",
    "            column_name: lines\n",
    "        })\n",
    "        \n",
    "        logger.info(f\"Loaded dataset as text: {len(df)} records\")\n",
    "            \n",
    "        return df\n",
    "    except Exception as e:\n",
    "        logger.error(f\"Error loading dataset: {str(e)}\")\n",
    "        raise"
   ]
  },
  {
   "cell_type": "code",
   "execution_count": 32,
   "id": "45f1523d-74d0-40f0-a5b6-c7756f985cac",
   "metadata": {},
   "outputs": [
    {
     "name": "stderr",
     "output_type": "stream",
     "text": [
      "2025-05-16 13:49:26,943 - __main__ - INFO - Loaded 4896 SAE texts from column 'sae_text'\n",
      "2025-05-16 13:49:26,943 - __main__ - INFO - Loaded dataset as text: 4896 records\n"
     ]
    }
   ],
   "source": [
    "dataset = load_sae_dataset('../output_datasets/aae_to_sae_initial_5000_results.csv')"
   ]
  },
  {
   "cell_type": "code",
   "execution_count": 33,
   "id": "634c294a-936e-4d84-b25b-b9a871d1c0a2",
   "metadata": {},
   "outputs": [
    {
     "data": {
      "text/html": [
       "<div>\n",
       "<style scoped>\n",
       "    .dataframe tbody tr th:only-of-type {\n",
       "        vertical-align: middle;\n",
       "    }\n",
       "\n",
       "    .dataframe tbody tr th {\n",
       "        vertical-align: top;\n",
       "    }\n",
       "\n",
       "    .dataframe thead th {\n",
       "        text-align: right;\n",
       "    }\n",
       "</style>\n",
       "<table border=\"1\" class=\"dataframe\">\n",
       "  <thead>\n",
       "    <tr style=\"text-align: right;\">\n",
       "      <th></th>\n",
       "      <th>sae_text</th>\n",
       "    </tr>\n",
       "  </thead>\n",
       "  <tbody>\n",
       "    <tr>\n",
       "      <th>4891</th>\n",
       "      <td>@Saviour_So_Heat you came here and I picked yo...</td>\n",
       "    </tr>\n",
       "    <tr>\n",
       "      <th>4892</th>\n",
       "      <td>@LadyLove_LOUD Girl, where are you? We're at H...</td>\n",
       "    </tr>\n",
       "    <tr>\n",
       "      <th>4893</th>\n",
       "      <td>\"Men are more emotional than ever these days. ...</td>\n",
       "    </tr>\n",
       "    <tr>\n",
       "      <th>4894</th>\n",
       "      <td>\"All I do is sit back and laugh at these women...</td>\n",
       "    </tr>\n",
       "    <tr>\n",
       "      <th>4895</th>\n",
       "      <td>@AllHailQuan He isn’t a rapist, stop messing w...</td>\n",
       "    </tr>\n",
       "  </tbody>\n",
       "</table>\n",
       "</div>"
      ],
      "text/plain": [
       "                                               sae_text\n",
       "4891  @Saviour_So_Heat you came here and I picked yo...\n",
       "4892  @LadyLove_LOUD Girl, where are you? We're at H...\n",
       "4893  \"Men are more emotional than ever these days. ...\n",
       "4894  \"All I do is sit back and laugh at these women...\n",
       "4895  @AllHailQuan He isn’t a rapist, stop messing w..."
      ]
     },
     "execution_count": 33,
     "metadata": {},
     "output_type": "execute_result"
    }
   ],
   "source": [
    "dataset.tail(5)"
   ]
  },
  {
   "cell_type": "code",
   "execution_count": 34,
   "id": "c5dae4fc-3bd3-4b0b-bd80-b0f7bbedff09",
   "metadata": {},
   "outputs": [
    {
     "data": {
      "text/html": [
       "<div>\n",
       "<style scoped>\n",
       "    .dataframe tbody tr th:only-of-type {\n",
       "        vertical-align: middle;\n",
       "    }\n",
       "\n",
       "    .dataframe tbody tr th {\n",
       "        vertical-align: top;\n",
       "    }\n",
       "\n",
       "    .dataframe thead th {\n",
       "        text-align: right;\n",
       "    }\n",
       "</style>\n",
       "<table border=\"1\" class=\"dataframe\">\n",
       "  <thead>\n",
       "    <tr style=\"text-align: right;\">\n",
       "      <th></th>\n",
       "      <th>sae_text</th>\n",
       "      <th>aae_text</th>\n",
       "    </tr>\n",
       "  </thead>\n",
       "  <tbody>\n",
       "    <tr>\n",
       "      <th>4891</th>\n",
       "      <td>@Saviour_So_Heat you came here and I picked yo...</td>\n",
       "      <td>@Saviour_So_Heat you came through and I picked...</td>\n",
       "    </tr>\n",
       "    <tr>\n",
       "      <th>4892</th>\n",
       "      <td>@LadyLove_LOUD Girl, where are you? We're at H...</td>\n",
       "      <td>@LadyLove_LOUD Girl, where you at? We at Henry...</td>\n",
       "    </tr>\n",
       "    <tr>\n",
       "      <th>4893</th>\n",
       "      <td>\"Men are more emotional than ever these days. ...</td>\n",
       "      <td>Men be more emotional than ever these days. It...</td>\n",
       "    </tr>\n",
       "    <tr>\n",
       "      <th>4894</th>\n",
       "      <td>\"All I do is sit back and laugh at these women...</td>\n",
       "      <td>All I do is sit back an’ laugh at these women....</td>\n",
       "    </tr>\n",
       "    <tr>\n",
       "      <th>4895</th>\n",
       "      <td>@AllHailQuan He isn’t a rapist, stop messing w...</td>\n",
       "      <td>@AllHailQuan He ain’t no rapist, quit messin’ ...</td>\n",
       "    </tr>\n",
       "  </tbody>\n",
       "</table>\n",
       "</div>"
      ],
      "text/plain": [
       "                                               sae_text  \\\n",
       "4891  @Saviour_So_Heat you came here and I picked yo...   \n",
       "4892  @LadyLove_LOUD Girl, where are you? We're at H...   \n",
       "4893  \"Men are more emotional than ever these days. ...   \n",
       "4894  \"All I do is sit back and laugh at these women...   \n",
       "4895  @AllHailQuan He isn’t a rapist, stop messing w...   \n",
       "\n",
       "                                               aae_text  \n",
       "4891  @Saviour_So_Heat you came through and I picked...  \n",
       "4892  @LadyLove_LOUD Girl, where you at? We at Henry...  \n",
       "4893  Men be more emotional than ever these days. It...  \n",
       "4894  All I do is sit back an’ laugh at these women....  \n",
       "4895  @AllHailQuan He ain’t no rapist, quit messin’ ...  "
      ]
     },
     "execution_count": 34,
     "metadata": {},
     "output_type": "execute_result"
    }
   ],
   "source": [
    "full_df = pd.read_csv('../output_datasets/sae_to_aae_initial_5000_results.csv')\n",
    "full_df.tail(5)"
   ]
  },
  {
   "cell_type": "code",
   "execution_count": 48,
   "id": "35a4b888-2fa8-406b-b73b-2d55f35761fa",
   "metadata": {},
   "outputs": [
    {
     "data": {
      "text/html": [
       "<div>\n",
       "<style scoped>\n",
       "    .dataframe tbody tr th:only-of-type {\n",
       "        vertical-align: middle;\n",
       "    }\n",
       "\n",
       "    .dataframe tbody tr th {\n",
       "        vertical-align: top;\n",
       "    }\n",
       "\n",
       "    .dataframe thead th {\n",
       "        text-align: right;\n",
       "    }\n",
       "</style>\n",
       "<table border=\"1\" class=\"dataframe\">\n",
       "  <thead>\n",
       "    <tr style=\"text-align: right;\">\n",
       "      <th></th>\n",
       "      <th>aae_text</th>\n",
       "      <th>sentiment</th>\n",
       "    </tr>\n",
       "  </thead>\n",
       "  <tbody>\n",
       "    <tr>\n",
       "      <th>0</th>\n",
       "      <td>She can't get nothin' from me but some bubble ...</td>\n",
       "      <td>negative</td>\n",
       "    </tr>\n",
       "    <tr>\n",
       "      <th>1</th>\n",
       "      <td>@islandboi_B Yeah, that’s dope. Ain’t nothin’ ...</td>\n",
       "      <td>positive</td>\n",
       "    </tr>\n",
       "    <tr>\n",
       "      <th>2</th>\n",
       "      <td>Mixed, huh!? Dem real dark knees an’ elbows go...</td>\n",
       "      <td>neutral</td>\n",
       "    </tr>\n",
       "    <tr>\n",
       "      <th>3</th>\n",
       "      <td>@larrympaige @zionsays #FIGHT. Folks always as...</td>\n",
       "      <td>positive</td>\n",
       "    </tr>\n",
       "    <tr>\n",
       "      <th>4</th>\n",
       "      <td>Mike James from @mavs ain’t nobody and he real...</td>\n",
       "      <td>negative</td>\n",
       "    </tr>\n",
       "  </tbody>\n",
       "</table>\n",
       "</div>"
      ],
      "text/plain": [
       "                                            aae_text sentiment\n",
       "0  She can't get nothin' from me but some bubble ...  negative\n",
       "1  @islandboi_B Yeah, that’s dope. Ain’t nothin’ ...  positive\n",
       "2  Mixed, huh!? Dem real dark knees an’ elbows go...   neutral\n",
       "3  @larrympaige @zionsays #FIGHT. Folks always as...  positive\n",
       "4  Mike James from @mavs ain’t nobody and he real...  negative"
      ]
     },
     "execution_count": 48,
     "metadata": {},
     "output_type": "execute_result"
    }
   ],
   "source": [
    "claude = pd.read_csv('../sentiment_datasets/phi4_aae_from_sae_sentiment.csv')\n",
    "claude.head()"
   ]
  },
  {
   "cell_type": "code",
   "execution_count": 49,
   "id": "5cef4005-451f-4e0f-85b8-d80098cc141c",
   "metadata": {},
   "outputs": [],
   "source": [
    "claude.rename(columns={\"aae_text\" : \"aae_from_sae_text\"}, inplace=True)"
   ]
  },
  {
   "cell_type": "code",
   "execution_count": 50,
   "id": "e4071357-e3c9-4ebc-915c-f9a4fcbca557",
   "metadata": {},
   "outputs": [
    {
     "data": {
      "text/html": [
       "<div>\n",
       "<style scoped>\n",
       "    .dataframe tbody tr th:only-of-type {\n",
       "        vertical-align: middle;\n",
       "    }\n",
       "\n",
       "    .dataframe tbody tr th {\n",
       "        vertical-align: top;\n",
       "    }\n",
       "\n",
       "    .dataframe thead th {\n",
       "        text-align: right;\n",
       "    }\n",
       "</style>\n",
       "<table border=\"1\" class=\"dataframe\">\n",
       "  <thead>\n",
       "    <tr style=\"text-align: right;\">\n",
       "      <th></th>\n",
       "      <th>aae_from_sae_text</th>\n",
       "      <th>sentiment</th>\n",
       "    </tr>\n",
       "  </thead>\n",
       "  <tbody>\n",
       "    <tr>\n",
       "      <th>0</th>\n",
       "      <td>She can't get nothin' from me but some bubble ...</td>\n",
       "      <td>negative</td>\n",
       "    </tr>\n",
       "    <tr>\n",
       "      <th>1</th>\n",
       "      <td>@islandboi_B Yeah, that’s dope. Ain’t nothin’ ...</td>\n",
       "      <td>positive</td>\n",
       "    </tr>\n",
       "    <tr>\n",
       "      <th>2</th>\n",
       "      <td>Mixed, huh!? Dem real dark knees an’ elbows go...</td>\n",
       "      <td>neutral</td>\n",
       "    </tr>\n",
       "    <tr>\n",
       "      <th>3</th>\n",
       "      <td>@larrympaige @zionsays #FIGHT. Folks always as...</td>\n",
       "      <td>positive</td>\n",
       "    </tr>\n",
       "    <tr>\n",
       "      <th>4</th>\n",
       "      <td>Mike James from @mavs ain’t nobody and he real...</td>\n",
       "      <td>negative</td>\n",
       "    </tr>\n",
       "  </tbody>\n",
       "</table>\n",
       "</div>"
      ],
      "text/plain": [
       "                                   aae_from_sae_text sentiment\n",
       "0  She can't get nothin' from me but some bubble ...  negative\n",
       "1  @islandboi_B Yeah, that’s dope. Ain’t nothin’ ...  positive\n",
       "2  Mixed, huh!? Dem real dark knees an’ elbows go...   neutral\n",
       "3  @larrympaige @zionsays #FIGHT. Folks always as...  positive\n",
       "4  Mike James from @mavs ain’t nobody and he real...  negative"
      ]
     },
     "execution_count": 50,
     "metadata": {},
     "output_type": "execute_result"
    }
   ],
   "source": [
    "claude.head()"
   ]
  },
  {
   "cell_type": "code",
   "execution_count": 51,
   "id": "c7237fae-9421-4a4f-b3d4-2a348a5cb9f6",
   "metadata": {},
   "outputs": [],
   "source": [
    "claude[[\"aae_from_sae_text\", \"sentiment\"]].to_csv('../sentiment_datasets/phi4_aae_from_sae_sentiment.csv', index=False)"
   ]
  },
  {
   "cell_type": "code",
   "execution_count": null,
   "id": "787fdec4-7eb2-40a1-b952-d67d6753321a",
   "metadata": {},
   "outputs": [],
   "source": []
  }
 ],
 "metadata": {
  "kernelspec": {
   "display_name": "Python 3 (ipykernel)",
   "language": "python",
   "name": "python3"
  },
  "language_info": {
   "codemirror_mode": {
    "name": "ipython",
    "version": 3
   },
   "file_extension": ".py",
   "mimetype": "text/x-python",
   "name": "python",
   "nbconvert_exporter": "python",
   "pygments_lexer": "ipython3",
   "version": "3.12.9"
  }
 },
 "nbformat": 4,
 "nbformat_minor": 5
}
